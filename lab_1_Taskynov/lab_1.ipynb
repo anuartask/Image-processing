{
 "cells": [
  {
   "cell_type": "markdown",
   "metadata": {},
   "source": [
    "## Таскынов Ануар\n",
    "#### группа 317"
   ]
  },
  {
   "cell_type": "code",
   "execution_count": 1,
   "metadata": {
    "collapsed": false
   },
   "outputs": [],
   "source": [
    "import numpy as np\n",
    "import matplotlib.pyplot as plt\n",
    "from scipy import misc\n",
    "%matplotlib inline\n",
    "from my_func import binary_image, is_hexagon, feature_hexagon, colors_order, predict\n",
    "import scipy.ndimage as ndi"
   ]
  },
  {
   "cell_type": "code",
   "execution_count": 2,
   "metadata": {
    "collapsed": false
   },
   "outputs": [
    {
     "name": "stderr",
     "output_type": "stream",
     "text": [
      "/root/anaconda3/lib/python3.4/site-packages/skimage/util/dtype.py:111: UserWarning: Possible precision loss when converting from float64 to uint8\n",
      "  \"%s to %s\" % (dtypeobj_in, dtypeobj))\n"
     ]
    }
   ],
   "source": [
    "filename = \"Dozen_0\"\n",
    "image = misc.imread(\"Образцы/\" + filename + \".bmp\")\n",
    "bin_image = binary_image(image)\n",
    "seg_image, _ = ndi.label(bin_image)\n",
    "bin_image = is_hexagon(seg_image)\n",
    "seg_image, _ = ndi.label(bin_image)\n",
    "feat = feature_hexagon(seg_image)\n",
    "fit_hex = colors_order(image, seg_image, feat, filename, dozen=True)"
   ]
  },
  {
   "cell_type": "code",
   "execution_count": 3,
   "metadata": {
    "collapsed": false
   },
   "outputs": [
    {
     "name": "stderr",
     "output_type": "stream",
     "text": [
      "/root/anaconda3/lib/python3.4/site-packages/skimage/util/dtype.py:111: UserWarning: Possible precision loss when converting from float64 to uint8\n",
      "  \"%s to %s\" % (dtypeobj_in, dtypeobj))\n"
     ]
    }
   ],
   "source": [
    "for i in range(10):\n",
    "    filename = \"Single_\" + str(i)\n",
    "    image = misc.imread(\"Образцы/\" + filename + \".bmp\")\n",
    "    bin_image = binary_image(image)\n",
    "    seg_image, _ = ndi.label(bin_image)\n",
    "    bin_image = is_hexagon(seg_image)\n",
    "    seg_image, _ = ndi.label(bin_image)\n",
    "    feat = feature_hexagon(seg_image)\n",
    "    col_order = colors_order(image, seg_image, feat, filename)\n",
    "    predict(fit_hex, image, seg_image, feat, col_order, filename)"
   ]
  },
  {
   "cell_type": "code",
   "execution_count": 4,
   "metadata": {
    "collapsed": false
   },
   "outputs": [
    {
     "name": "stderr",
     "output_type": "stream",
     "text": [
      "/root/anaconda3/lib/python3.4/site-packages/skimage/util/dtype.py:111: UserWarning: Possible precision loss when converting from float64 to uint8\n",
      "  \"%s to %s\" % (dtypeobj_in, dtypeobj))\n"
     ]
    }
   ],
   "source": [
    "for i in range(1, 7):\n",
    "    filename = \"Group_\" + str(i)\n",
    "    image = misc.imread(\"Образцы/\" + filename + \".bmp\")\n",
    "    bin_image = binary_image(image)\n",
    "    seg_image, _ = ndi.label(bin_image)\n",
    "    bin_image = is_hexagon(seg_image)\n",
    "    seg_image, _ = ndi.label(bin_image)\n",
    "    feat = feature_hexagon(seg_image)\n",
    "    col_order = colors_order(image, seg_image, feat, filename)\n",
    "    predict(fit_hex, image, seg_image, feat, col_order, filename)"
   ]
  }
 ],
 "metadata": {
  "kernelspec": {
   "display_name": "Python 3",
   "language": "python",
   "name": "python3"
  },
  "language_info": {
   "codemirror_mode": {
    "name": "ipython",
    "version": 3
   },
   "file_extension": ".py",
   "mimetype": "text/x-python",
   "name": "python",
   "nbconvert_exporter": "python",
   "pygments_lexer": "ipython3",
   "version": "3.5.1"
  }
 },
 "nbformat": 4,
 "nbformat_minor": 0
}
