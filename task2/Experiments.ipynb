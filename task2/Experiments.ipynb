{
 "cells": [
  {
   "cell_type": "code",
   "execution_count": 41,
   "metadata": {
    "collapsed": true
   },
   "outputs": [],
   "source": [
    "import my_func\n",
    "import numpy as np\n",
    "from scipy.spatial.distance import cdist\n",
    "import matplotlib.pyplot as plt\n",
    "%matplotlib inline\n",
    "from sklearn.cluster import KMeans"
   ]
  },
  {
   "cell_type": "code",
   "execution_count": 9,
   "metadata": {
    "collapsed": false
   },
   "outputs": [
    {
     "data": {
      "text/plain": [
       "<module 'my_func' from 'my_func.py'>"
      ]
     },
     "execution_count": 9,
     "metadata": {},
     "output_type": "execute_result"
    }
   ],
   "source": [
    "reload(my_func)"
   ]
  },
  {
   "cell_type": "code",
   "execution_count": 10,
   "metadata": {
    "collapsed": false
   },
   "outputs": [],
   "source": [
    "hands_features = []\n",
    "id_ = []\n",
    "for i in range(1, 158):\n",
    "    cnt = 2 - int(np.log10(i))\n",
    "    try:\n",
    "        image = plt.imread('training/' + '0' * cnt + str(i) + '.tif')\n",
    "    except:\n",
    "        continue\n",
    "    id_.append(i)\n",
    "    bin_image = my_func.binary_image(image)\n",
    "    bin_image = (bin_image * 255).astype('uint8')\n",
    "    all_defects = my_func.preproc(image, bin_image)\n",
    "    is_tip_valley = my_func.filtering(image, bin_image, all_defects)\n",
    "    im, hand_feature = my_func.features(image, is_tip_valley, all_defects)\n",
    "    hands_features.append(hand_feature)\n",
    "    plt.imsave(\"t_v/tip_valley\" + str(i) + '.png', im)\n",
    "id_ = np.array(id_)\n",
    "X = np.array(hands_features)"
   ]
  },
  {
   "cell_type": "code",
   "execution_count": 11,
   "metadata": {
    "collapsed": false
   },
   "outputs": [],
   "source": [
    "neighbor = id_[np.argsort(cdist(X, X), axis=1)[:, 1: 4]]"
   ]
  },
  {
   "cell_type": "code",
   "execution_count": 73,
   "metadata": {
    "collapsed": false
   },
   "outputs": [],
   "source": [
    "column = ['Имя образца', 'Имена ближайших соседей', \n",
    "          'Имя образца', 'Имена ближайших соседей', \n",
    "          'Имя образца', 'Имена ближайших соседей']\n",
    "neighbor_table = pd.DataFrame(columns=column)\n",
    "for i in range(neighbor.shape[0] // 3):\n",
    "    row = []\n",
    "    for j in range(3):\n",
    "        col_ = ''\n",
    "        cnt = 2 - int(np.log10(id_[i + j * 33]))\n",
    "        row.append('0' * cnt + str(id_[i + j * 33]))\n",
    "        for k in range(3):\n",
    "            cnt = 2 - int(np.log10(neighbor[i + j * 33][k]))\n",
    "            col_ += cnt * '0' + str(neighbor[i + j * 33][k]) + ' '\n",
    "        row.append(col_)\n",
    "    neighbor_table = neighbor_table.append(pd.Series(\n",
    "                row,\n",
    "                index=neighbor_table.columns),\n",
    "                ignore_index=True)"
   ]
  },
  {
   "cell_type": "code",
   "execution_count": 74,
   "metadata": {
    "collapsed": false
   },
   "outputs": [
    {
     "data": {
      "text/html": [
       "<div>\n",
       "<table border=\"1\" class=\"dataframe\">\n",
       "  <thead>\n",
       "    <tr style=\"text-align: right;\">\n",
       "      <th></th>\n",
       "      <th>Имя образца</th>\n",
       "      <th>Имена ближайших соседей</th>\n",
       "      <th>Имя образца</th>\n",
       "      <th>Имена ближайших соседей</th>\n",
       "      <th>Имя образца</th>\n",
       "      <th>Имена ближайших соседей</th>\n",
       "    </tr>\n",
       "  </thead>\n",
       "  <tbody>\n",
       "    <tr>\n",
       "      <th>0</th>\n",
       "      <td>001</td>\n",
       "      <td>002 037 090</td>\n",
       "      <td>039</td>\n",
       "      <td>037 002 001</td>\n",
       "      <td>095</td>\n",
       "      <td>109 008 067</td>\n",
       "    </tr>\n",
       "    <tr>\n",
       "      <th>1</th>\n",
       "      <td>002</td>\n",
       "      <td>001 037 145</td>\n",
       "      <td>041</td>\n",
       "      <td>060 105 049</td>\n",
       "      <td>096</td>\n",
       "      <td>063 093 031</td>\n",
       "    </tr>\n",
       "    <tr>\n",
       "      <th>2</th>\n",
       "      <td>003</td>\n",
       "      <td>006 007 005</td>\n",
       "      <td>046</td>\n",
       "      <td>020 018 016</td>\n",
       "      <td>097</td>\n",
       "      <td>007 003 014</td>\n",
       "    </tr>\n",
       "    <tr>\n",
       "      <th>3</th>\n",
       "      <td>004</td>\n",
       "      <td>006 003 007</td>\n",
       "      <td>047</td>\n",
       "      <td>050 060 146</td>\n",
       "      <td>099</td>\n",
       "      <td>012 014 003</td>\n",
       "    </tr>\n",
       "    <tr>\n",
       "      <th>4</th>\n",
       "      <td>005</td>\n",
       "      <td>007 003 006</td>\n",
       "      <td>049</td>\n",
       "      <td>047 060 041</td>\n",
       "      <td>105</td>\n",
       "      <td>142 107 106</td>\n",
       "    </tr>\n",
       "    <tr>\n",
       "      <th>5</th>\n",
       "      <td>006</td>\n",
       "      <td>003 004 007</td>\n",
       "      <td>050</td>\n",
       "      <td>047 060 146</td>\n",
       "      <td>106</td>\n",
       "      <td>142 105 107</td>\n",
       "    </tr>\n",
       "    <tr>\n",
       "      <th>6</th>\n",
       "      <td>007</td>\n",
       "      <td>005 003 155</td>\n",
       "      <td>051</td>\n",
       "      <td>052 054 053</td>\n",
       "      <td>107</td>\n",
       "      <td>105 088 091</td>\n",
       "    </tr>\n",
       "    <tr>\n",
       "      <th>7</th>\n",
       "      <td>008</td>\n",
       "      <td>067 066 057</td>\n",
       "      <td>052</td>\n",
       "      <td>051 054 053</td>\n",
       "      <td>109</td>\n",
       "      <td>092 067 113</td>\n",
       "    </tr>\n",
       "    <tr>\n",
       "      <th>8</th>\n",
       "      <td>009</td>\n",
       "      <td>011 010 065</td>\n",
       "      <td>053</td>\n",
       "      <td>054 052 051</td>\n",
       "      <td>111</td>\n",
       "      <td>096 031 063</td>\n",
       "    </tr>\n",
       "    <tr>\n",
       "      <th>9</th>\n",
       "      <td>010</td>\n",
       "      <td>009 011 065</td>\n",
       "      <td>054</td>\n",
       "      <td>051 052 078</td>\n",
       "      <td>112</td>\n",
       "      <td>114 113 092</td>\n",
       "    </tr>\n",
       "    <tr>\n",
       "      <th>10</th>\n",
       "      <td>011</td>\n",
       "      <td>079 009 081</td>\n",
       "      <td>055</td>\n",
       "      <td>053 052 106</td>\n",
       "      <td>113</td>\n",
       "      <td>114 112 092</td>\n",
       "    </tr>\n",
       "    <tr>\n",
       "      <th>11</th>\n",
       "      <td>012</td>\n",
       "      <td>014 013 006</td>\n",
       "      <td>056</td>\n",
       "      <td>086 076 057</td>\n",
       "      <td>114</td>\n",
       "      <td>112 113 092</td>\n",
       "    </tr>\n",
       "    <tr>\n",
       "      <th>12</th>\n",
       "      <td>013</td>\n",
       "      <td>012 014 015</td>\n",
       "      <td>057</td>\n",
       "      <td>076 056 081</td>\n",
       "      <td>118</td>\n",
       "      <td>123 122 113</td>\n",
       "    </tr>\n",
       "    <tr>\n",
       "      <th>13</th>\n",
       "      <td>014</td>\n",
       "      <td>012 013 006</td>\n",
       "      <td>060</td>\n",
       "      <td>047 145 050</td>\n",
       "      <td>120</td>\n",
       "      <td>124 034 028</td>\n",
       "    </tr>\n",
       "    <tr>\n",
       "      <th>14</th>\n",
       "      <td>015</td>\n",
       "      <td>013 005 014</td>\n",
       "      <td>063</td>\n",
       "      <td>096 034 066</td>\n",
       "      <td>122</td>\n",
       "      <td>123 092 026</td>\n",
       "    </tr>\n",
       "    <tr>\n",
       "      <th>15</th>\n",
       "      <td>016</td>\n",
       "      <td>017 020 046</td>\n",
       "      <td>064</td>\n",
       "      <td>141 066 009</td>\n",
       "      <td>123</td>\n",
       "      <td>122 118 092</td>\n",
       "    </tr>\n",
       "    <tr>\n",
       "      <th>16</th>\n",
       "      <td>017</td>\n",
       "      <td>016 020 046</td>\n",
       "      <td>065</td>\n",
       "      <td>009 010 155</td>\n",
       "      <td>124</td>\n",
       "      <td>034 120 028</td>\n",
       "    </tr>\n",
       "    <tr>\n",
       "      <th>17</th>\n",
       "      <td>018</td>\n",
       "      <td>021 019 020</td>\n",
       "      <td>066</td>\n",
       "      <td>128 129 011</td>\n",
       "      <td>126</td>\n",
       "      <td>127 124 120</td>\n",
       "    </tr>\n",
       "    <tr>\n",
       "      <th>18</th>\n",
       "      <td>019</td>\n",
       "      <td>021 018 078</td>\n",
       "      <td>067</td>\n",
       "      <td>008 109 129</td>\n",
       "      <td>127</td>\n",
       "      <td>126 122 123</td>\n",
       "    </tr>\n",
       "    <tr>\n",
       "      <th>19</th>\n",
       "      <td>020</td>\n",
       "      <td>046 018 016</td>\n",
       "      <td>068</td>\n",
       "      <td>020 011 079</td>\n",
       "      <td>128</td>\n",
       "      <td>129 066 079</td>\n",
       "    </tr>\n",
       "    <tr>\n",
       "      <th>20</th>\n",
       "      <td>021</td>\n",
       "      <td>019 018 020</td>\n",
       "      <td>071</td>\n",
       "      <td>150 151 050</td>\n",
       "      <td>129</td>\n",
       "      <td>128 066 008</td>\n",
       "    </tr>\n",
       "    <tr>\n",
       "      <th>21</th>\n",
       "      <td>022</td>\n",
       "      <td>023 035 026</td>\n",
       "      <td>076</td>\n",
       "      <td>077 079 086</td>\n",
       "      <td>135</td>\n",
       "      <td>003 157 107</td>\n",
       "    </tr>\n",
       "    <tr>\n",
       "      <th>22</th>\n",
       "      <td>023</td>\n",
       "      <td>022 035 124</td>\n",
       "      <td>077</td>\n",
       "      <td>076 079 086</td>\n",
       "      <td>138</td>\n",
       "      <td>141 065 064</td>\n",
       "    </tr>\n",
       "    <tr>\n",
       "      <th>23</th>\n",
       "      <td>024</td>\n",
       "      <td>086 021 079</td>\n",
       "      <td>078</td>\n",
       "      <td>077 076 079</td>\n",
       "      <td>141</td>\n",
       "      <td>009 064 065</td>\n",
       "    </tr>\n",
       "    <tr>\n",
       "      <th>24</th>\n",
       "      <td>026</td>\n",
       "      <td>028 029 022</td>\n",
       "      <td>079</td>\n",
       "      <td>076 077 011</td>\n",
       "      <td>142</td>\n",
       "      <td>105 106 107</td>\n",
       "    </tr>\n",
       "    <tr>\n",
       "      <th>25</th>\n",
       "      <td>027</td>\n",
       "      <td>029 028 036</td>\n",
       "      <td>081</td>\n",
       "      <td>079 086 082</td>\n",
       "      <td>144</td>\n",
       "      <td>004 145 146</td>\n",
       "    </tr>\n",
       "    <tr>\n",
       "      <th>26</th>\n",
       "      <td>028</td>\n",
       "      <td>026 124 029</td>\n",
       "      <td>082</td>\n",
       "      <td>090 081 007</td>\n",
       "      <td>145</td>\n",
       "      <td>144 146 002</td>\n",
       "    </tr>\n",
       "    <tr>\n",
       "      <th>27</th>\n",
       "      <td>029</td>\n",
       "      <td>027 028 026</td>\n",
       "      <td>086</td>\n",
       "      <td>077 079 076</td>\n",
       "      <td>146</td>\n",
       "      <td>004 144 006</td>\n",
       "    </tr>\n",
       "    <tr>\n",
       "      <th>28</th>\n",
       "      <td>031</td>\n",
       "      <td>063 096 009</td>\n",
       "      <td>088</td>\n",
       "      <td>091 107 157</td>\n",
       "      <td>150</td>\n",
       "      <td>151 152 071</td>\n",
       "    </tr>\n",
       "    <tr>\n",
       "      <th>29</th>\n",
       "      <td>034</td>\n",
       "      <td>124 120 028</td>\n",
       "      <td>090</td>\n",
       "      <td>082 005 007</td>\n",
       "      <td>151</td>\n",
       "      <td>150 152 071</td>\n",
       "    </tr>\n",
       "    <tr>\n",
       "      <th>30</th>\n",
       "      <td>035</td>\n",
       "      <td>022 023 026</td>\n",
       "      <td>091</td>\n",
       "      <td>088 107 105</td>\n",
       "      <td>152</td>\n",
       "      <td>150 151 071</td>\n",
       "    </tr>\n",
       "    <tr>\n",
       "      <th>31</th>\n",
       "      <td>036</td>\n",
       "      <td>035 120 028</td>\n",
       "      <td>092</td>\n",
       "      <td>112 114 113</td>\n",
       "      <td>155</td>\n",
       "      <td>007 006 005</td>\n",
       "    </tr>\n",
       "    <tr>\n",
       "      <th>32</th>\n",
       "      <td>037</td>\n",
       "      <td>002 001 039</td>\n",
       "      <td>093</td>\n",
       "      <td>096 063 092</td>\n",
       "      <td>157</td>\n",
       "      <td>107 086 155</td>\n",
       "    </tr>\n",
       "  </tbody>\n",
       "</table>\n",
       "</div>"
      ],
      "text/plain": [
       "   Имя образца Имена ближайших соседей Имя образца Имена ближайших соседей  \\\n",
       "0          001            002 037 090          039            037 002 001    \n",
       "1          002            001 037 145          041            060 105 049    \n",
       "2          003            006 007 005          046            020 018 016    \n",
       "3          004            006 003 007          047            050 060 146    \n",
       "4          005            007 003 006          049            047 060 041    \n",
       "5          006            003 004 007          050            047 060 146    \n",
       "6          007            005 003 155          051            052 054 053    \n",
       "7          008            067 066 057          052            051 054 053    \n",
       "8          009            011 010 065          053            054 052 051    \n",
       "9          010            009 011 065          054            051 052 078    \n",
       "10         011            079 009 081          055            053 052 106    \n",
       "11         012            014 013 006          056            086 076 057    \n",
       "12         013            012 014 015          057            076 056 081    \n",
       "13         014            012 013 006          060            047 145 050    \n",
       "14         015            013 005 014          063            096 034 066    \n",
       "15         016            017 020 046          064            141 066 009    \n",
       "16         017            016 020 046          065            009 010 155    \n",
       "17         018            021 019 020          066            128 129 011    \n",
       "18         019            021 018 078          067            008 109 129    \n",
       "19         020            046 018 016          068            020 011 079    \n",
       "20         021            019 018 020          071            150 151 050    \n",
       "21         022            023 035 026          076            077 079 086    \n",
       "22         023            022 035 124          077            076 079 086    \n",
       "23         024            086 021 079          078            077 076 079    \n",
       "24         026            028 029 022          079            076 077 011    \n",
       "25         027            029 028 036          081            079 086 082    \n",
       "26         028            026 124 029          082            090 081 007    \n",
       "27         029            027 028 026          086            077 079 076    \n",
       "28         031            063 096 009          088            091 107 157    \n",
       "29         034            124 120 028          090            082 005 007    \n",
       "30         035            022 023 026          091            088 107 105    \n",
       "31         036            035 120 028          092            112 114 113    \n",
       "32         037            002 001 039          093            096 063 092    \n",
       "\n",
       "   Имя образца Имена ближайших соседей  \n",
       "0          095            109 008 067   \n",
       "1          096            063 093 031   \n",
       "2          097            007 003 014   \n",
       "3          099            012 014 003   \n",
       "4          105            142 107 106   \n",
       "5          106            142 105 107   \n",
       "6          107            105 088 091   \n",
       "7          109            092 067 113   \n",
       "8          111            096 031 063   \n",
       "9          112            114 113 092   \n",
       "10         113            114 112 092   \n",
       "11         114            112 113 092   \n",
       "12         118            123 122 113   \n",
       "13         120            124 034 028   \n",
       "14         122            123 092 026   \n",
       "15         123            122 118 092   \n",
       "16         124            034 120 028   \n",
       "17         126            127 124 120   \n",
       "18         127            126 122 123   \n",
       "19         128            129 066 079   \n",
       "20         129            128 066 008   \n",
       "21         135            003 157 107   \n",
       "22         138            141 065 064   \n",
       "23         141            009 064 065   \n",
       "24         142            105 106 107   \n",
       "25         144            004 145 146   \n",
       "26         145            144 146 002   \n",
       "27         146            004 144 006   \n",
       "28         150            151 152 071   \n",
       "29         151            150 152 071   \n",
       "30         152            150 151 071   \n",
       "31         155            007 006 005   \n",
       "32         157            107 086 155   "
      ]
     },
     "execution_count": 74,
     "metadata": {},
     "output_type": "execute_result"
    }
   ],
   "source": [
    "neighbor_table"
   ]
  },
  {
   "cell_type": "code",
   "execution_count": 31,
   "metadata": {
    "collapsed": false
   },
   "outputs": [],
   "source": [
    "quality = []\n",
    "n_clusters = np.arange(10, 60)\n",
    "for i in range(10, 60):\n",
    "    clf = KMeans(n_clusters=i)\n",
    "    clf.fit(X)\n",
    "    quality.append(-1 * clf.score(X))"
   ]
  },
  {
   "cell_type": "code",
   "execution_count": 54,
   "metadata": {
    "collapsed": false
   },
   "outputs": [
    {
     "data": {
      "text/plain": [
       "<matplotlib.text.Text at 0x7f6d9ab0c950>"
      ]
     },
     "execution_count": 54,
     "metadata": {},
     "output_type": "execute_result"
    },
    {
     "data": {
      "image/png": "[encoded data removed]",
      "text/plain": [
       "<matplotlib.figure.Figure at 0x7f6d9a225150>"
      ]
     },
     "metadata": {},
     "output_type": "display_data"
    }
   ],
   "source": [
    "plt.plot(n_clusters, quality, 'r')\n",
    "plt.xlabel('n_clusters')\n",
    "plt.ylabel('Quality')"
   ]
  },
  {
   "cell_type": "code",
   "execution_count": 67,
   "metadata": {
    "collapsed": true
   },
   "outputs": [],
   "source": [
    "clf = KMeans(n_clusters=33)\n",
    "clf.fit(X)\n",
    "labels = clf.labels_"
   ]
  },
  {
   "cell_type": "code",
   "execution_count": 68,
   "metadata": {
    "collapsed": true
   },
   "outputs": [],
   "source": [
    "humans = []\n",
    "for i in range(np.unique(labels).shape[0]):\n",
    "    humans.append(id_[np.where(labels == i)[0]])"
   ]
  },
  {
   "cell_type": "code",
   "execution_count": 69,
   "metadata": {
    "collapsed": false
   },
   "outputs": [
    {
     "data": {
      "text/plain": [
       "[array([12, 13, 14, 15, 97]),\n",
       " array([ 26,  28, 122]),\n",
       " array([150, 151, 152]),\n",
       " array([51, 52, 53, 54]),\n",
       " array([ 66, 128, 129]),\n",
       " array([ 92, 112, 113, 114]),\n",
       " array([49]),\n",
       " array([  9,  10,  65, 141]),\n",
       " array([144, 145, 146]),\n",
       " array([16, 17, 20, 46, 68]),\n",
       " array([ 1,  2, 37, 39]),\n",
       " array([111]),\n",
       " array([  8,  67, 109]),\n",
       " array([31, 63, 96]),\n",
       " array([105, 106, 107, 142]),\n",
       " array([27, 29]),\n",
       " array([138]),\n",
       " array([22, 23, 35, 36]),\n",
       " array([126, 127]),\n",
       " array([11, 56, 57, 76, 77, 79, 81, 86]),\n",
       " array([71]),\n",
       " array([  3,   4,   5,   6,   7,  99, 155, 157]),\n",
       " array([47, 50, 60]),\n",
       " array([64]),\n",
       " array([118, 123]),\n",
       " array([ 34, 120, 124]),\n",
       " array([95]),\n",
       " array([135]),\n",
       " array([55, 82, 90]),\n",
       " array([41]),\n",
       " array([88, 91]),\n",
       " array([93]),\n",
       " array([18, 19, 21, 24, 78])]"
      ]
     },
     "execution_count": 69,
     "metadata": {},
     "output_type": "execute_result"
    }
   ],
   "source": [
    "humans"
   ]
  },
  {
   "cell_type": "code",
   "execution_count": 86,
   "metadata": {
    "collapsed": false
   },
   "outputs": [],
   "source": [
    "column = ['Человек', 'Изображения ладоней']\n",
    "cluster_table = pd.DataFrame(columns=column)\n",
    "for i in range(len(humans)):\n",
    "    row = [str(i + 1)]\n",
    "    col_ = ''\n",
    "    for j in range(humans[i].shape[0]):\n",
    "        cnt = 2 - int(np.log10(humans[i][j]))\n",
    "        col_ += ('0' * cnt + str(humans[i][j])) + ' '\n",
    "    row.append(col_)\n",
    "    cluster_table = cluster_table.append(pd.Series(\n",
    "                row,\n",
    "                index=cluster_table.columns),\n",
    "                ignore_index=True)"
   ]
  },
  {
   "cell_type": "code",
   "execution_count": 89,
   "metadata": {
    "collapsed": false
   },
   "outputs": [
    {
     "name": "stdout",
     "output_type": "stream",
     "text": [
      "\\begin{tabular}{lll}\n",
      "\\toprule\n",
      "{} & Человек &               Изображения ладоней \\\\\n",
      "\\midrule\n",
      "0  &       1 &              012 013 014 015 097  \\\\\n",
      "1  &       2 &                      026 028 122  \\\\\n",
      "2  &       3 &                      150 151 152  \\\\\n",
      "3  &       4 &                  051 052 053 054  \\\\\n",
      "4  &       5 &                      066 128 129  \\\\\n",
      "5  &       6 &                  092 112 113 114  \\\\\n",
      "6  &       7 &                              049  \\\\\n",
      "7  &       8 &                  009 010 065 141  \\\\\n",
      "8  &       9 &                      144 145 146  \\\\\n",
      "9  &      10 &              016 017 020 046 068  \\\\\n",
      "10 &      11 &                  001 002 037 039  \\\\\n",
      "11 &      12 &                              111  \\\\\n",
      "12 &      13 &                      008 067 109  \\\\\n",
      "13 &      14 &                      031 063 096  \\\\\n",
      "14 &      15 &                  105 106 107 142  \\\\\n",
      "15 &      16 &                          027 029  \\\\\n",
      "16 &      17 &                              138  \\\\\n",
      "17 &      18 &                  022 023 035 036  \\\\\n",
      "18 &      19 &                          126 127  \\\\\n",
      "19 &      20 &  011 056 057 076 077 079 081 086  \\\\\n",
      "20 &      21 &                              071  \\\\\n",
      "21 &      22 &  003 004 005 006 007 099 155 157  \\\\\n",
      "22 &      23 &                      047 050 060  \\\\\n",
      "23 &      24 &                              064  \\\\\n",
      "24 &      25 &                          118 123  \\\\\n",
      "25 &      26 &                      034 120 124  \\\\\n",
      "26 &      27 &                              095  \\\\\n",
      "27 &      28 &                              135  \\\\\n",
      "28 &      29 &                      055 082 090  \\\\\n",
      "29 &      30 &                              041  \\\\\n",
      "30 &      31 &                          088 091  \\\\\n",
      "31 &      32 &                              093  \\\\\n",
      "32 &      33 &              018 019 021 024 078  \\\\\n",
      "\\bottomrule\n",
      "\\end{tabular}\n",
      "\n"
     ]
    }
   ],
   "source": [
    "print cluster_table.to_latex()"
   ]
  },
  {
   "cell_type": "code",
   "execution_count": 90,
   "metadata": {
    "collapsed": false
   },
   "outputs": [
    {
     "data": {
      "text/plain": [
       "<module 'my_func' from 'my_func.py'>"
      ]
     },
     "execution_count": 90,
     "metadata": {},
     "output_type": "execute_result"
    }
   ],
   "source": [
    "reload(my_func)"
   ]
  },
  {
   "cell_type": "code",
   "execution_count": 92,
   "metadata": {
    "collapsed": true
   },
   "outputs": [],
   "source": [
    "for i in range(12, 14):\n",
    "    cnt = 2 - int(np.log10(i))\n",
    "    try:\n",
    "        image = plt.imread('training/' + '0' * cnt + str(i) + '.tif')\n",
    "    except:\n",
    "        continue\n",
    "    bin_image = my_func.binary_image(image)\n",
    "    bin_image = (bin_image * 255).astype('uint8')\n",
    "    plt.imsave(\"bad_binary\" + str(i) + '.png', bin_image, cmap='gray')"
   ]
  },
  {
   "cell_type": "code",
   "execution_count": null,
   "metadata": {
    "collapsed": true
   },
   "outputs": [],
   "source": []
  }
 ],
 "metadata": {
  "celltoolbar": "Raw Cell Format",
  "kernelspec": {
   "display_name": "Python 2",
   "language": "python",
   "name": "python2"
  },
  "language_info": {
   "codemirror_mode": {
    "name": "ipython",
    "version": 2
   },
   "file_extension": ".py",
   "mimetype": "text/x-python",
   "name": "python",
   "nbconvert_exporter": "python",
   "pygments_lexer": "ipython2",
   "version": "2.7.11"
  }
 },
 "nbformat": 4,
 "nbformat_minor": 0
}
